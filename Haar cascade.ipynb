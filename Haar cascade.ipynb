{
 "cells": [
  {
   "cell_type": "code",
   "execution_count": 72,
   "id": "2915495e",
   "metadata": {},
   "outputs": [],
   "source": [
    "import numpy as np\n",
    "import warnings \n",
    "warnings.filterwarnings('ignore')"
   ]
  },
  {
   "cell_type": "markdown",
   "id": "aefeb2d3",
   "metadata": {},
   "source": [
    "## Face Detection"
   ]
  },
  {
   "cell_type": "code",
   "execution_count": 28,
   "id": "88c54676",
   "metadata": {},
   "outputs": [
    {
     "name": "stderr",
     "output_type": "stream",
     "text": [
      "C:\\Users\\Pratik Datey\\AppData\\Local\\Temp\\ipykernel_22964\\3691083879.py:14: DeprecationWarning: elementwise comparison failed; this will raise an error in the future.\n",
      "  if face == ():\n"
     ]
    }
   ],
   "source": [
    "import numpy as np\n",
    "import cv2\n",
    "import imutils\n",
    "\n",
    "\n",
    "face_classifier = cv2.CascadeClassifier(\"D:\\DATA SCIENCE\\Computer Vision\\Computer-Vision-Tutorial-master\\Haarcascades\\haarcascade_frontalface_default.xml\")\n",
    "eye_classsifier= cv2.CascadeClassifier(\"D:\\DATA SCIENCE\\Computer Vision\\Computer-Vision-Tutorial-master\\Haarcascades\\haarcascade_eye.xml\")\n",
    "\n",
    "image=cv2.imread(\"pratik.jpeg\")\n",
    "gray=cv2.cvtColor(image,cv2.COLOR_BGR2GRAY)\n",
    "\n",
    "face=face_classifier.detectMultiScale(gray,1.2,5)\n",
    "\n",
    "if face == ():\n",
    "    print('No face found')\n",
    "    \n",
    "for (x,y,w,h) in face:\n",
    "    cv2.rectangle(image,(x,y),(x+w,y+h),(127,0,255),3)\n",
    "    face = imutils.resize(image, width=800)\n",
    "\n",
    "\n",
    "    cv2.imshow('Face Detection',face)\n",
    "    \n",
    "cv2.waitKey()\n",
    "\n",
    "cv2.destroyAllWindows()"
   ]
  },
  {
   "cell_type": "markdown",
   "id": "d24873a3",
   "metadata": {},
   "source": [
    "## Eye Detection"
   ]
  },
  {
   "cell_type": "code",
   "execution_count": 30,
   "id": "2c464df3",
   "metadata": {},
   "outputs": [
    {
     "name": "stderr",
     "output_type": "stream",
     "text": [
      "C:\\Users\\Pratik Datey\\AppData\\Local\\Temp\\ipykernel_22964\\2462975404.py:13: DeprecationWarning: elementwise comparison failed; this will raise an error in the future.\n",
      "  if eye == ():\n"
     ]
    }
   ],
   "source": [
    "import numpy as np\n",
    "import cv2\n",
    "import imutils\n",
    "\n",
    "face_classifier = cv2.CascadeClassifier(\"D:\\DATA SCIENCE\\Computer Vision\\Computer-Vision-Tutorial-master\\Haarcascades\\haarcascade_frontalface_default.xml\")\n",
    "eye_classsifier= cv2.CascadeClassifier(\"D:\\DATA SCIENCE\\Computer Vision\\Computer-Vision-Tutorial-master\\Haarcascades\\haarcascade_eye.xml\")\n",
    "\n",
    "image=cv2.imread(\"pratik.jpeg\")\n",
    "gray=cv2.cvtColor(image,cv2.COLOR_BGR2GRAY)\n",
    "\n",
    "eye=eye_classsifier.detectMultiScale(gray,1.2,5)\n",
    "\n",
    "if eye == ():\n",
    "    print('No Eyes found')\n",
    "for (x,y,w,h) in eye:\n",
    "    cv2.rectangle(image,(x,y),(x+w,y+h),(127,0,255),2)\n",
    "    eye = imutils.resize(image, width=800)\n",
    "\n",
    "    cv2.imshow('Eyes Detection',eye)\n",
    "    \n",
    "cv2.waitKey()\n",
    "\n",
    "cv2.destroyAllWindows()"
   ]
  },
  {
   "cell_type": "markdown",
   "id": "b770f5a5",
   "metadata": {},
   "source": [
    "## Face + Eye Detection on Image"
   ]
  },
  {
   "cell_type": "code",
   "execution_count": 8,
   "id": "372282fb",
   "metadata": {},
   "outputs": [
    {
     "name": "stderr",
     "output_type": "stream",
     "text": [
      "<ipython-input-8-c90217bab8c8>:14: DeprecationWarning: elementwise comparison failed; this will raise an error in the future.\n",
      "  if face == ():\n"
     ]
    }
   ],
   "source": [
    "import numpy as np\n",
    "import cv2\n",
    "import imutils\n",
    "\n",
    "\n",
    "face_classifier = cv2.CascadeClassifier(\"D:\\DATA SCIENCE\\Computer Vision\\Computer-Vision-Tutorial-master\\Haarcascades\\haarcascade_frontalface_default.xml\")\n",
    "eye_classsifier= cv2.CascadeClassifier(\"D:\\DATA SCIENCE\\Computer Vision\\Computer-Vision-Tutorial-master\\Haarcascades\\haarcascade_eye.xml\")\n",
    "\n",
    "image=cv2.imread(\"pratik.jpeg\")\n",
    "gray=cv2.cvtColor(image,cv2.COLOR_BGR2GRAY)\n",
    "\n",
    "face=face_classifier.detectMultiScale(gray,1.3,5)\n",
    "\n",
    "if face == ():\n",
    "    print('No face found')\n",
    "    \n",
    "for (x,y,w,h) in face:\n",
    "    cv2.rectangle(image,(x,y),(x+w,y+h),(127,0,255),2)\n",
    "    #face = imutils.resize(image, width=500)\n",
    "    cv2.imshow('Face Detection',image)\n",
    "    cv2.waitKey()\n",
    "    roi_grey=gray[y:y+h, x:x+w]\n",
    "    roj_color=image[y:y+h, x:x+w]\n",
    "    eye=eye_classsifier.detectMultiScale(roi_grey)\n",
    "    for(ex,ey,ew,eh) in eye:\n",
    "        cv2.rectangle(roj_color,(ex,ey),(ex+ew,ey+eh),(255,255,0),2)\n",
    "        cv2.imshow('Eye Detection',image)\n",
    "        cv2.waitKey()\n",
    "cv2.destroyAllWindows()"
   ]
  },
  {
   "cell_type": "markdown",
   "id": "b505cd47",
   "metadata": {},
   "source": [
    "## Face + Eye Detection on video"
   ]
  },
  {
   "cell_type": "code",
   "execution_count": 13,
   "id": "ebe6fb1e",
   "metadata": {},
   "outputs": [],
   "source": [
    "import numpy as np\n",
    "import cv2\n",
    "import imutils\n",
    "\n",
    "face_classifier = cv2.CascadeClassifier(\"D:\\DATA SCIENCE\\Computer Vision\\Computer-Vision-Tutorial-master\\Haarcascades\\haarcascade_frontalface_default.xml\")\n",
    "eye_classsifier= cv2.CascadeClassifier(\"D:\\DATA SCIENCE\\Computer Vision\\Computer-Vision-Tutorial-master\\Haarcascades\\haarcascade_eye.xml\")\n",
    "\n",
    "def detect(gray,frame):\n",
    "    face=face_classifier.detectMultiScale(gray,1.3,5)\n",
    "    for (x,y,w,h) in face:\n",
    "        cv2.rectangle(frame,(x,y),(x+w,y+h),(255,0,0),2)\n",
    "        roi_gray=gray[y:y+h, x:x+w]\n",
    "        roj_color=frame[y:y+h, x:x+w]\n",
    "        eye=eye_classsifier.detectMultiScale(roi_gray,1.1,3)\n",
    "        for (ex,ey,ew,eh) in eye:\n",
    "            cv2.rectangle(roj_color,(ex,ey),(ex+ew,ey+eh),(0,255,0),2)\n",
    "    return frame\n",
    "    \n",
    "    \n",
    "video_cap=cv2.VideoCapture(0)\n",
    "while True:\n",
    "    _,frame= video_cap.read()\n",
    "    gray=cv2.cvtColor(frame,cv2.COLOR_BGR2GRAY)\n",
    "    canvas=detect(gray,frame)\n",
    "    canvas=imutils.resize(canvas,width=1000,height=1000)\n",
    "    cv2.imshow('img',canvas)\n",
    "    if cv2.waitKey(1) & 0xFF ==ord('q'):\n",
    "        break\n",
    "        \n",
    "video_cap.release()\n",
    "cv2.destroyAllWindows()\n",
    "    "
   ]
  },
  {
   "cell_type": "markdown",
   "id": "44e5aac4",
   "metadata": {},
   "source": [
    "## Live Face Detection"
   ]
  },
  {
   "cell_type": "code",
   "execution_count": 17,
   "id": "c5daeefa",
   "metadata": {},
   "outputs": [],
   "source": [
    "import numpy as np\n",
    "import cv2\n",
    "import imutils\n",
    "face_classifier = cv2.CascadeClassifier(\"D:\\DATA SCIENCE\\Computer Vision\\Computer-Vision-Tutorial-master\\Haarcascades\\haarcascade_frontalface_default.xml\")\n",
    "\n",
    "def detect(gray,frame):\n",
    "    face=face_classifier.detectMultiScale(gray,1.5,2)\n",
    "    for (x,y,w,h) in face:\n",
    "        cv2.rectangle(frame,(x,y),(x+w,y+h),(255,255,0),2)\n",
    "    return frame\n",
    "        \n",
    "    \n",
    "cap=cv2.VideoCapture(0)\n",
    "while(cap.isOpened()):\n",
    "    _,frame=cap.read()\n",
    "    gray=cv2.cvtColor(frame,cv2.COLOR_BGR2GRAY)\n",
    "    canvas=detect(gray,frame)\n",
    "    cv2.imshow('live',canvas)\n",
    "    if cv2.waitKey(1) & 0xFF == ord('q'):\n",
    "        break\n",
    "        \n",
    "cap.release()\n",
    "cv2.destroyAllWindows()"
   ]
  },
  {
   "cell_type": "markdown",
   "id": "1a1669c7",
   "metadata": {},
   "source": [
    "## FULL BODY DETECTION\n"
   ]
  },
  {
   "cell_type": "code",
   "execution_count": 20,
   "id": "657a47a9",
   "metadata": {},
   "outputs": [],
   "source": [
    "import cv2\n",
    "import imutils\n",
    "\n",
    "pedestrain=cv2.CascadeClassifier(\"D:\\DATA SCIENCE\\Computer Vision\\Computer-Vision-Tutorial-master\\Haarcascades\\haarcascade_fullbody.xml\")\n",
    "\n",
    "def detect(gray,frame):\n",
    "    ped=pedestrain.detectMultiScale(frame,1.5,2)\n",
    "    for (x,y,w,h) in ped:\n",
    "        cv2.rectangle(frame,(x,y),(x+w,y+h),(0,255,0),2)\n",
    "    return frame\n",
    "\n",
    "\n",
    "\n",
    "cap=cv2.VideoCapture('grp.mp4')\n",
    "while (cap.isOpened):\n",
    "    _,frame=cap.read()\n",
    "    gray=cv2.cvtColor(frame,cv2.COLOR_BGR2GRAY)\n",
    "    canvas=detect(gray,frame)\n",
    "    scaled=imutils.resize(canvas,height =1000 ,width=1000)\n",
    "    cv2.imshow('PEDESTRAIN',scaled)\n",
    "    if cv2.waitKey(1) & 0xff ==ord('q'):\n",
    "        break\n",
    "\n",
    "cap.release()\n",
    "cv2.destroyAllWindows()"
   ]
  },
  {
   "cell_type": "markdown",
   "id": "d16ad969",
   "metadata": {},
   "source": [
    "## CAR DETECTION \n"
   ]
  },
  {
   "cell_type": "code",
   "execution_count": 4,
   "id": "bb104180",
   "metadata": {},
   "outputs": [],
   "source": [
    "import cv2\n",
    "import imutils\n",
    "\n",
    "car=cv2.CascadeClassifier(\"D:\\DATA SCIENCE\\Computer Vision\\Computer-Vision-Tutorial-master\\Haarcascades\\haarcascade_car.xml\")\n",
    "\n",
    "def detect(gray,frame):\n",
    "    ped=car.detectMultiScale(frame,1.5,2)\n",
    "    for (x,y,w,h) in ped:\n",
    "        cv2.rectangle(frame,(x,y),(x+w,y+h),(0,255,0),2)\n",
    "    return frame\n",
    "\n",
    "\n",
    "\n",
    "cap=cv2.VideoCapture('cars1.mp4')\n",
    "while (cap.isOpened):\n",
    "    _,frame=cap.read()\n",
    "    gray=cv2.cvtColor(frame,cv2.COLOR_BGR2GRAY)\n",
    "    canvas=detect(gray,frame)\n",
    "    scaled=imutils.resize(canvas,height =1000 ,width=1000)\n",
    "    cv2.imshow('cars',scaled)\n",
    "    if cv2.waitKey(1) & 0xff ==ord('q'):\n",
    "        break\n",
    "\n",
    "cap.release()\n",
    "cv2.destroyAllWindows()"
   ]
  }
 ],
 "metadata": {
  "kernelspec": {
   "display_name": "Python 3 (ipykernel)",
   "language": "python",
   "name": "python3"
  },
  "language_info": {
   "codemirror_mode": {
    "name": "ipython",
    "version": 3
   },
   "file_extension": ".py",
   "mimetype": "text/x-python",
   "name": "python",
   "nbconvert_exporter": "python",
   "pygments_lexer": "ipython3",
   "version": "3.8.8"
  }
 },
 "nbformat": 4,
 "nbformat_minor": 5
}
